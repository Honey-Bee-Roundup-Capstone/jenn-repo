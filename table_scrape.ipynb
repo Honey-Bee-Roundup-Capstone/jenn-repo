{
 "cells": [
  {
   "cell_type": "code",
   "execution_count": 1,
   "metadata": {},
   "outputs": [],
   "source": [
    "# Library for opening url and creating \n",
    "# requests\n",
    "import urllib.request\n",
    "\n",
    "# pretty-print python data structures\n",
    "from pprint import pprint\n",
    "\n",
    "# for parsing all the tables present \n",
    "# on the website\n",
    "from html_table_parser.parser import HTMLTableParser\n",
    "\n",
    "# for converting the parsed data in a\n",
    "# pandas dataframe\n",
    "import pandas as pd"
   ]
  },
  {
   "cell_type": "code",
   "execution_count": 2,
   "metadata": {},
   "outputs": [],
   "source": [
    "# Opens a website and read its\n",
    "# binary contents (HTTP Response Body)\n",
    "def url_get_contents(url):\n",
    "\n",
    "    # Opens a website and read its\n",
    "    # binary contents (HTTP Response Body)\n",
    "\n",
    "    #making request to the website\n",
    "    req = urllib.request.Request(url=url)\n",
    "    f = urllib.request.urlopen(req)\n",
    "\n",
    "    #reading contents of the website\n",
    "    return f.read()"
   ]
  },
  {
   "cell_type": "code",
   "execution_count": 4,
   "metadata": {},
   "outputs": [
    {
     "name": "stdout",
     "output_type": "stream",
     "text": [
      "[[['State',\n",
      "   '',\n",
      "   'Beekeepers',\n",
      "   'Beekeepers Exclusive to State',\n",
      "   'Colonies',\n",
      "   'Colonies Exclusive to State'],\n",
      "  ['', '', '', '', '', '']]]\n",
      "\n",
      "\n",
      "PANDAS DATAFRAME\n",
      "\n",
      "                                                   0             1\n",
      "0  [State, , Beekeepers, Beekeepers Exclusive to ...  [, , , , , ]\n"
     ]
    }
   ],
   "source": [
    "# defining the html contents of a URL.\n",
    "xhtml = url_get_contents('https://bip2.beeinformed.org/loss-map/').decode('utf-8')\n",
    " \n",
    "# Defining the HTMLTableParser object\n",
    "p = HTMLTableParser()\n",
    " \n",
    "# feeding the html contents in the\n",
    "# HTMLTableParser object\n",
    "p.feed(xhtml)\n",
    " \n",
    "# Now finally obtaining the data of\n",
    "# the table required\n",
    "pprint(p.tables)\n",
    " \n",
    "# converting the parsed data to\n",
    "# dataframe\n",
    "print(\"\\n\\nPANDAS DATAFRAME\\n\")\n",
    "print(pd.DataFrame(p.tables))"
   ]
  }
 ],
 "metadata": {
  "kernelspec": {
   "display_name": "Python 3.9.12 ('base')",
   "language": "python",
   "name": "python3"
  },
  "language_info": {
   "codemirror_mode": {
    "name": "ipython",
    "version": 3
   },
   "file_extension": ".py",
   "mimetype": "text/x-python",
   "name": "python",
   "nbconvert_exporter": "python",
   "pygments_lexer": "ipython3",
   "version": "3.9.12"
  },
  "orig_nbformat": 4,
  "vscode": {
   "interpreter": {
    "hash": "3067ead486e059ec00ffe7555bdb889e6e264a24dc711bf108106cc7baee8d5d"
   }
  }
 },
 "nbformat": 4,
 "nbformat_minor": 2
}
